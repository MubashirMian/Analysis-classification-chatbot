{
 "cells": [
  {
   "cell_type": "code",
   "execution_count": 7,
   "id": "5bd0c631-dd4a-4d72-9f22-d9f3bd6904f1",
   "metadata": {},
   "outputs": [
    {
     "name": "stdout",
     "output_type": "stream",
     "text": [
      "Using MPS device\n",
      "Using device: mps\n"
     ]
    }
   ],
   "source": [
    "import torch\n",
    "from transformers import pipeline\n",
    "\n",
    "model_name = \"facebook/bart-large-mnli\"\n",
    "\n",
    "if torch.backends.mps.is_available():  # Check for MPS (Apple Silicon)\n",
    "    device = torch.device(\"mps\")\n",
    "    print(\"Using MPS device\")\n",
    "elif torch.cuda.is_available():  # Check for CUDA (less likely on macOS)\n",
    "    device = torch.device(\"cuda\")\n",
    "    print(\"Using CUDA device\")\n",
    "else:\n",
    "    device = torch.device(\"cpu\")\n",
    "    print(\"Using CPU device\")\n",
    "\n",
    "# Or, more concisely:\n",
    "device = torch.device(\"mps\" if torch.backends.mps.is_available() else \"cuda\" if torch.cuda.is_available() else \"cpu\")\n",
    "print(f\"Using device: {device}\")\n",
    "\n"
   ]
  },
  {
   "cell_type": "code",
   "execution_count": null,
   "id": "49577bc9-07c5-431c-9a6c-39988008f416",
   "metadata": {},
   "outputs": [],
   "source": []
  },
  {
   "cell_type": "code",
   "execution_count": 8,
   "id": "17548a40-b96c-447a-a9b0-8b5b9fcd0539",
   "metadata": {},
   "outputs": [
    {
     "name": "stderr",
     "output_type": "stream",
     "text": [
      "Device set to use mps\n"
     ]
    },
    {
     "name": "stdout",
     "output_type": "stream",
     "text": [
      "Model loaded successfully.\n",
      "{'sequence': 'one day I will see the world', 'labels': ['travel', 'cooking', 'dancing'], 'scores': [0.9922067523002625, 0.003976492676883936, 0.0038166942540556192]}\n"
     ]
    }
   ],
   "source": [
    "def load_model(device):\n",
    "    try:\n",
    "        classifier = pipeline(\n",
    "            \"zero-shot-classification\",\n",
    "            model=model_name,\n",
    "            device=device,\n",
    "            torch_dtype=torch.float16 if str(device) != \"cpu\" else None # Try float16 for GPU\n",
    "        )\n",
    "        return classifier\n",
    "    except Exception as e:\n",
    "        print(f\"Error loading model: {e}\")\n",
    "        return None\n",
    "\n",
    "classifier = load_model(device)\n",
    "\n",
    "if classifier:\n",
    "    print(\"Model loaded successfully.\")\n",
    "    # Example usage:\n",
    "    sequence_to_classify = \"one day I will see the world\"\n",
    "    candidate_labels = ['travel', 'cooking', 'dancing']\n",
    "    hypothesis_template = \"This text is about {}.\"\n",
    "\n",
    "    result = classifier(sequence_to_classify, candidate_labels=candidate_labels, hypothesis_template=hypothesis_template)\n",
    "    print(result)\n",
    "\n",
    "else:\n",
    "    print(\"Model loading failed.\")"
   ]
  },
  {
   "cell_type": "code",
   "execution_count": 9,
   "id": "f1bd454b-bd19-4e59-b118-dd8cdc3609a9",
   "metadata": {},
   "outputs": [],
   "source": [
    "theme_list = [\"friendship\",\"hope\",\"scarfice\",\"battle\",\"self development\", \"betrayal\", \"love\", \"dialouge\"]"
   ]
  },
  {
   "cell_type": "code",
   "execution_count": 10,
   "id": "7db8fa19-878d-4357-a549-522a997db5e6",
   "metadata": {},
   "outputs": [
    {
     "data": {
      "text/plain": [
       "{'sequence': 'I gave hime a right hook then a left job',\n",
       " 'labels': ['battle',\n",
       "  'self development',\n",
       "  'dialouge',\n",
       "  'betrayal',\n",
       "  'scarfice',\n",
       "  'hope',\n",
       "  'friendship',\n",
       "  'love'],\n",
       " 'scores': [0.8352148532867432,\n",
       "  0.6551154255867004,\n",
       "  0.1977541446685791,\n",
       "  0.1057865098118782,\n",
       "  0.03494669497013092,\n",
       "  0.029008125886321068,\n",
       "  0.027894755825400352,\n",
       "  0.0070527102798223495]}"
      ]
     },
     "execution_count": 10,
     "metadata": {},
     "output_type": "execute_result"
    }
   ],
   "source": [
    "classifier (\n",
    "    \"I gave hime a right hook then a left job\",\n",
    "    theme_list,\n",
    "    multi_label=True\n",
    ")"
   ]
  },
  {
   "cell_type": "code",
   "execution_count": 11,
   "id": "350fb681-8555-4484-b673-d68d10c92514",
   "metadata": {},
   "outputs": [],
   "source": [
    "from glob import glob"
   ]
  },
  {
   "cell_type": "code",
   "execution_count": 12,
   "id": "e3f85fb4-a706-4750-b9c5-beac20906768",
   "metadata": {},
   "outputs": [],
   "source": [
    "files = glob('../data/subtitles/*.ass')"
   ]
  },
  {
   "cell_type": "code",
   "execution_count": 13,
   "id": "b5f65aa9-1edb-43d4-b12b-028900638ea3",
   "metadata": {},
   "outputs": [
    {
     "name": "stdout",
     "output_type": "stream",
     "text": [
      "<class 'list'>\n"
     ]
    }
   ],
   "source": [
    "files[:1]\n",
    "print(type(files))"
   ]
  },
  {
   "cell_type": "code",
   "execution_count": 14,
   "id": "a570305b-4f7d-4e52-9e83-a4868f915dcc",
   "metadata": {},
   "outputs": [],
   "source": [
    "with open(files[0], 'r') as file:\n",
    "    lines = file.readlines()\n",
    "    lines = lines[27:]\n",
    "    lines = [ \",\".join(line.split(',')[9:]) for line in lines]"
   ]
  },
  {
   "cell_type": "code",
   "execution_count": 15,
   "id": "8695eb41-5568-4d17-9868-5a35b5bf754b",
   "metadata": {},
   "outputs": [
    {
     "data": {
      "text/plain": [
       "['We are Fighting Dreamers aiming high\\n',\n",
       " \"Fighting Dreamers\\\\Ndon't care what people think about them\\n\"]"
      ]
     },
     "execution_count": 15,
     "metadata": {},
     "output_type": "execute_result"
    }
   ],
   "source": [
    "lines[:2]"
   ]
  },
  {
   "cell_type": "code",
   "execution_count": 16,
   "id": "717cb2f9-046d-4315-8b4a-ed3207bc694c",
   "metadata": {},
   "outputs": [],
   "source": [
    "lines = [line.replace('\\\\N',' ' ) for line in lines]"
   ]
  },
  {
   "cell_type": "code",
   "execution_count": 17,
   "id": "69cf232a-6edb-4f60-aad0-b3f573814027",
   "metadata": {},
   "outputs": [
    {
     "data": {
      "text/plain": [
       "['We are Fighting Dreamers aiming high\\n',\n",
       " \"Fighting Dreamers don't care what people think about them\\n\"]"
      ]
     },
     "execution_count": 17,
     "metadata": {},
     "output_type": "execute_result"
    }
   ],
   "source": [
    "lines[:2]"
   ]
  },
  {
   "cell_type": "code",
   "execution_count": 18,
   "id": "ed29f5e0-d15d-4215-978b-1544038d9513",
   "metadata": {},
   "outputs": [
    {
     "data": {
      "text/plain": [
       "\"We are Fighting Dreamers aiming high\\n Fighting Dreamers don't care what people think about them\\n Fighting Dreamers follow what they believe\\n Oli Oli Oli Oh! Just go my way\\n Right here right now (Bang) Hit it straight like a line drive!\\n Right here right now (Burn)\\n Down a difficult road filled with endless struggles\\n Where do you think you are going following someone else's map?\\n An insightful crow comes along to tear up the map\\n Now open your eyes and take a look at the truth (Yeah!)\\n\""
      ]
     },
     "execution_count": 18,
     "metadata": {},
     "output_type": "execute_result"
    }
   ],
   "source": [
    "\" \".join(lines[:10])"
   ]
  },
  {
   "cell_type": "code",
   "execution_count": 19,
   "id": "7a8adc31-1af9-4faa-997d-a8ab716af3d0",
   "metadata": {},
   "outputs": [
    {
     "data": {
      "text/plain": [
       "94"
      ]
     },
     "execution_count": 19,
     "metadata": {},
     "output_type": "execute_result"
    }
   ],
   "source": [
    "int(files[0].split('-')[-1].split('.')[0].strip())"
   ]
  },
  {
   "cell_type": "code",
   "execution_count": 64,
   "id": "429ed6be-732f-4231-b0b5-b514a0cc571c",
   "metadata": {},
   "outputs": [
    {
     "name": "stdout",
     "output_type": "stream",
     "text": [
      "Collecting pandas\n",
      "  Downloading pandas-2.2.3-cp312-cp312-macosx_11_0_arm64.whl.metadata (89 kB)\n",
      "Requirement already satisfied: numpy>=1.26.0 in /Users/mubashirmian/miniconda3/lib/python3.12/site-packages (from pandas) (1.26.4)\n",
      "Requirement already satisfied: python-dateutil>=2.8.2 in /Users/mubashirmian/miniconda3/lib/python3.12/site-packages (from pandas) (2.9.0.post0)\n",
      "Requirement already satisfied: pytz>=2020.1 in /Users/mubashirmian/miniconda3/lib/python3.12/site-packages (from pandas) (2024.1)\n",
      "Collecting tzdata>=2022.7 (from pandas)\n",
      "  Downloading tzdata-2024.2-py2.py3-none-any.whl.metadata (1.4 kB)\n",
      "Requirement already satisfied: six>=1.5 in /Users/mubashirmian/miniconda3/lib/python3.12/site-packages (from python-dateutil>=2.8.2->pandas) (1.16.0)\n",
      "Downloading pandas-2.2.3-cp312-cp312-macosx_11_0_arm64.whl (11.4 MB)\n",
      "\u001b[2K   \u001b[90m━━━━━━━━━━━━━━━━━━━━━━━━━━━━━━━━━━━━━━━━\u001b[0m \u001b[32m11.4/11.4 MB\u001b[0m \u001b[31m2.7 MB/s\u001b[0m eta \u001b[36m0:00:00\u001b[0ma \u001b[36m0:00:01\u001b[0m\n",
      "\u001b[?25hDownloading tzdata-2024.2-py2.py3-none-any.whl (346 kB)\n",
      "Installing collected packages: tzdata, pandas\n",
      "Successfully installed pandas-2.2.3 tzdata-2024.2\n",
      "Note: you may need to restart the kernel to use updated packages.\n"
     ]
    }
   ],
   "source": [
    "pip install pandas\n"
   ]
  },
  {
   "cell_type": "code",
   "execution_count": 20,
   "id": "96a1cb46-296a-49f1-83a6-b269e6dd3e6a",
   "metadata": {},
   "outputs": [],
   "source": [
    "import pandas as pd"
   ]
  },
  {
   "cell_type": "code",
   "execution_count": 21,
   "id": "58c19b0c-acf8-40b6-9a3f-04bd1c91b818",
   "metadata": {},
   "outputs": [],
   "source": [
    "import pandas as pd\n",
    "from glob import glob\n",
    "\n",
    "def load_subtitles_dataset(dataset_path):\n",
    "    subtitles_paths = glob(dataset_path + '/*.ass')\n",
    "\n",
    "    scripts = []\n",
    "    episode_num = []\n",
    "\n",
    "    for path in subtitles_paths:\n",
    "        with open(path, 'r', encoding='utf-8') as files:  # Added encoding for safety\n",
    "            lines = files.readlines()\n",
    "            lines = lines[27:]\n",
    "            lines = [\",\".join(line.split(',')[9:]) for line in lines]\n",
    "\n",
    "        lines = [line.replace('\\\\N', ' ') for line in lines]\n",
    "        script = \" \".join(lines)\n",
    "\n",
    "        # Extract episode number, assumes format like \"something-01.ass\"\n",
    "        try:\n",
    "            episode = int(path.split('-')[-1].split('.')[0].strip())\n",
    "        except ValueError:\n",
    "            print(f\"Skipping file with invalid format: {path}\")\n",
    "            continue\n",
    "\n",
    "        scripts.append(script)\n",
    "        episode_num.append(episode)\n",
    "\n",
    "    df = pd.DataFrame.from_dict({\"episode\": episode_num, \"script\": scripts})\n",
    "    return df\n"
   ]
  },
  {
   "cell_type": "code",
   "execution_count": 22,
   "id": "102fd13b-654b-4dbb-85ec-823bfe005d61",
   "metadata": {},
   "outputs": [],
   "source": [
    "dataset_path = \"../data/subtitles\"\n",
    "df = load_subtitles_dataset(dataset_path)"
   ]
  },
  {
   "cell_type": "code",
   "execution_count": 23,
   "id": "5c709d1b-ed1a-4dcf-bb08-98eaeb0a80d3",
   "metadata": {},
   "outputs": [
    {
     "data": {
      "text/html": [
       "<div>\n",
       "<style scoped>\n",
       "    .dataframe tbody tr th:only-of-type {\n",
       "        vertical-align: middle;\n",
       "    }\n",
       "\n",
       "    .dataframe tbody tr th {\n",
       "        vertical-align: top;\n",
       "    }\n",
       "\n",
       "    .dataframe thead th {\n",
       "        text-align: right;\n",
       "    }\n",
       "</style>\n",
       "<table border=\"1\" class=\"dataframe\">\n",
       "  <thead>\n",
       "    <tr style=\"text-align: right;\">\n",
       "      <th></th>\n",
       "      <th>episode</th>\n",
       "      <th>script</th>\n",
       "    </tr>\n",
       "  </thead>\n",
       "  <tbody>\n",
       "    <tr>\n",
       "      <th>0</th>\n",
       "      <td>94</td>\n",
       "      <td>We are Fighting Dreamers aiming high\\n Fightin...</td>\n",
       "    </tr>\n",
       "    <tr>\n",
       "      <th>1</th>\n",
       "      <td>80</td>\n",
       "      <td>We are Fighting Dreamers aiming high\\n Fightin...</td>\n",
       "    </tr>\n",
       "    <tr>\n",
       "      <th>2</th>\n",
       "      <td>32</td>\n",
       "      <td>Press down hard on the gas\\n That’s right, the...</td>\n",
       "    </tr>\n",
       "    <tr>\n",
       "      <th>3</th>\n",
       "      <td>185</td>\n",
       "      <td>Rock away your existence,\\n Shouting that you ...</td>\n",
       "    </tr>\n",
       "    <tr>\n",
       "      <th>4</th>\n",
       "      <td>191</td>\n",
       "      <td>Rock away your existence,\\n Shouting that you ...</td>\n",
       "    </tr>\n",
       "  </tbody>\n",
       "</table>\n",
       "</div>"
      ],
      "text/plain": [
       "   episode                                             script\n",
       "0       94  We are Fighting Dreamers aiming high\\n Fightin...\n",
       "1       80  We are Fighting Dreamers aiming high\\n Fightin...\n",
       "2       32  Press down hard on the gas\\n That’s right, the...\n",
       "3      185  Rock away your existence,\\n Shouting that you ...\n",
       "4      191  Rock away your existence,\\n Shouting that you ..."
      ]
     },
     "execution_count": 23,
     "metadata": {},
     "output_type": "execute_result"
    }
   ],
   "source": [
    "df.head()"
   ]
  },
  {
   "cell_type": "code",
   "execution_count": 31,
   "id": "a4ced90c-009f-42ef-8088-b67c87ede257",
   "metadata": {},
   "outputs": [
    {
     "name": "stdout",
     "output_type": "stream",
     "text": [
      "Collecting nltk\n",
      "  Downloading nltk-3.9.1-py3-none-any.whl.metadata (2.9 kB)\n",
      "Collecting click (from nltk)\n",
      "  Using cached click-8.1.8-py3-none-any.whl.metadata (2.3 kB)\n",
      "Collecting joblib (from nltk)\n",
      "  Using cached joblib-1.4.2-py3-none-any.whl.metadata (5.4 kB)\n",
      "Requirement already satisfied: regex>=2021.8.3 in /Users/mubashirmian/miniconda3/lib/python3.12/site-packages (from nltk) (2024.11.6)\n",
      "Requirement already satisfied: tqdm in /Users/mubashirmian/miniconda3/lib/python3.12/site-packages (from nltk) (4.66.5)\n",
      "Downloading nltk-3.9.1-py3-none-any.whl (1.5 MB)\n",
      "\u001b[2K   \u001b[90m━━━━━━━━━━━━━━━━━━━━━━━━━━━━━━━━━━━━━━━━\u001b[0m \u001b[32m1.5/1.5 MB\u001b[0m \u001b[31m2.7 MB/s\u001b[0m eta \u001b[36m0:00:00\u001b[0ma \u001b[36m0:00:01\u001b[0m\n",
      "\u001b[?25hUsing cached click-8.1.8-py3-none-any.whl (98 kB)\n",
      "Downloading joblib-1.4.2-py3-none-any.whl (301 kB)\n",
      "Installing collected packages: joblib, click, nltk\n",
      "Successfully installed click-8.1.8 joblib-1.4.2 nltk-3.9.1\n",
      "Note: you may need to restart the kernel to use updated packages.\n"
     ]
    }
   ],
   "source": [
    "pip install nltk"
   ]
  },
  {
   "cell_type": "code",
   "execution_count": 24,
   "id": "ca4805c8-af4f-4c0f-aab6-9d8abdc081ed",
   "metadata": {},
   "outputs": [],
   "source": [
    "from nltk import sent_tokenize\n"
   ]
  },
  {
   "cell_type": "code",
   "execution_count": 25,
   "id": "9c2002f9-d569-4839-a9bb-7c7714970353",
   "metadata": {},
   "outputs": [
    {
     "name": "stderr",
     "output_type": "stream",
     "text": [
      "[nltk_data] Downloading package punkt to\n",
      "[nltk_data]     /Users/mubashirmian/nltk_data...\n",
      "[nltk_data]   Package punkt is already up-to-date!\n"
     ]
    },
    {
     "data": {
      "text/plain": [
       "True"
      ]
     },
     "execution_count": 25,
     "metadata": {},
     "output_type": "execute_result"
    }
   ],
   "source": [
    "# Import nltk\n",
    "import nltk\n",
    "\n",
    "# Download the punkt tokenizer\n",
    "nltk.download('punkt')\n",
    "\n"
   ]
  },
  {
   "cell_type": "code",
   "execution_count": 26,
   "id": "e77cfe0a-a9ac-4fa8-9914-2c6c515a2e95",
   "metadata": {},
   "outputs": [],
   "source": [
    "script = df.iloc[0]['script']"
   ]
  },
  {
   "cell_type": "code",
   "execution_count": 27,
   "id": "4c2096e2-06e0-40f9-afa8-de6e9d7eb162",
   "metadata": {},
   "outputs": [
    {
     "data": {
      "text/plain": [
       "'We are Fighting Dreamers aiming high\\n Fighting Dreamers don\\'t care what people think about them\\n Fighting Dreamers follow what they believe\\n Oli Oli Oli Oh! Just go my way\\n Right here right now (Bang) Hit it straight like a line drive!\\n Right here right now (Burn)\\n Down a difficult road filled with endless struggles\\n Where do you think you are going following someone else\\'s map?\\n An insightful crow comes along to tear up the map\\n Now open your eyes and take a look at the truth (Yeah!)\\n There\\'s nothing to lose, so let\\'s GO!!!\\n We are Fighting Dreamers aiming high\\n Fighting Dreamers don\\'t care what people think about them\\n Fighting Dreamers follow what they believe\\n Oli Oli Oli Oh! Just go my way\\n Right here right now (Bang) Hit it straight like a line drive!\\n Right here right now (Burn) We\\'re gonna do it and do our best!\\n Right here right now (Bang) Hit it straight like a line drive!\\n Right here right now (Burn) We\\'re gonna do it and do our best! BANG!\\n My body movements have finally returned…\\n Blood…\\n Lady Tsunade!\\n Say! Say! What’s happening?!\\n Why’s Kabuto fighting with Old Lady Tsunade?!\\n Take a good look at the headband!\\n He’s Orochimaru’s subordinate.\\n Attack! Fury of the Rasengan!\\n That man is Orochimaru…\\n Shizune, you take care of the guy with the glasses…\\n I’ll take care of Orochimaru.\\n Before that, I’d like to have Tsunade do something about this body.\\n The effects of that drug might still last for awhile…\\n There’s nothing that I can do about it.\\n What? Really?\\n Geez. I guess it can’t be helped.\\n I have no choice but to fight in this condition.\\n Tsunade… Rest your body with Recovery Ninjutsu.\\n Then… What about me, me?\\n You guard Tsunade together with that pig.\\n What?! I want to fight, too. Even I can--\\n No, you won’t!\\n Like that four-eyed kid said, right?\\n You’re on a different level.\\n The opponent is a Sannin like myself,\\n and the man who killed the Third Hokage.\\n An eye for an eye… I’m the only one who can fight him.\\n And that four-eyed guy possesses the same level of power as Kakashi.\\n Okay.\\n Then… Shadow Clo--\\n Hold it!\\n Don’t use the Shadow Clone Jutsu. lt’d be utterly pointless.\\n What?\\n It wouldn’t even become much of a diversion…\\n It’d be a waste of Chakra…\\n with them as opponents.\\n Now then, let’s get this thing started.\\n – Summoning Jutsu. – Summoning Jutsu.\\n Hi.\\n – Huh?! \\t\\t\\t\\t\\t– What is this?!\\n – Wha--?! – What the heck’s going on?!\\n Long time no see.\\n On account of the drug,\\n Master Jiraiya still can’t build up Chakra very well.\\n It looks like your stupid still hasn’t healed, eh, Jiraiya.\\n That’s too much even for you with no ability.\\n It seems Tsunade got you with something.\\n A sacrifice was necessary for that Jutsu,\\n so perhaps she was thinking ahead and drugged him\\n with something that would contain his power.\\n To think she’d make a sacrifice of Jiraiya…\\n Well, it sounds just like Tsunade.\\n To think I’d already have my handicap spotted.\\n You are such a disgraceful guy as always…\\n Dang it. It kind of ticks me off when the Pervy Sage is mocked.\\n Summoning…Jutsu!\\n The Nine-Tailed Fox kid from the Chunin Exam.\\n I wonder if I should’ve killed him then, after all.\\n For the sake of the Akatsuki organization,\\n I acknowledged his achievement… and let him slide by.\\n But the only ones who can break a Five-Pronged Spell\\n are the Sannin members and the Third Hokage.\\n Which means Jiraiya may have already taught it to Naruto.\\n Perhaps.\\n If he’s able to control the Nine-Tailed Fox’s power…\\n Oh…\\n Th-This is…\\n It doesn’t quite look to be so.\\n He isn’t endowed with Shinobi ability to begin with, so…\\n Why?\\n He’s still got a long way to go, sure enough.\\n Why?!\\n Hello.\\n Hey, Gamatatsu. Why did you come out?\\n Oh, Brother Gamakichi.\\n It’s the first time I’ve been Summoned.\\n I-I wonder if I can do my best?\\n Idiot. Get some snacks or something and hide.\\n What? I can get snacks? Goody-goody.\\n Here I go.\\n I’ll take Jiraiya.\\n I leave the rest to you.\\n It’s unfortunate…\\n Here I also wanted to fight Lord Jiraiya, one of the Sannin.\\n Naruto!\\n Your opponent is me.\\n Earth Style! Dark Swamp!\\n Dang it. I can’t completely sink them with such a puny swamp.\\n The drug is still working.\\n But…with this, the snakes can’t move.\\n Ninja Art! Poison Fog!\\n I’ll be up a creek if I take even one breath.\\n My leg tendons…!\\n I won’t be eaten twice…! No way!\\n Here I go.\\n Ninja Art! Needle Jizo!\\n Dang it…The Jutsu isn’t working well.\\n Even if we both have handicaps, you won’t one-up me…\\n Give up now.\\n It’s unfortunate…\\n Here I had respected you as a fellow Medical Ninja.\\n Stop. Stay back!\\n Please hang on, Lady Tsunade…\\n The Sannin name, which Lord Orochimaru is also called, will cry.\\n My body’s heavy.\\n To think you who were once called the village madness\\n would ferry around such a kid and struggle tirelessly for the village.\\n You’ve really fallen, haven’t you?\\n I have a keen eye to discern ability.\\n And that kid…is mediocrity in my eyes.\\n It’s precisely for this reason… that I don’t need the Uchiha kid.\\n It’s no fun raising a genius who’s good from the start.\\n So you can’t leave him alone\\n because it’s like you’re looking at your old self?\\n That kid can’t beat Uchiha who inherited the inherent Sharingan Shinobi skill.\\n And that’s because Naruto doesn’t possess the Sharingan.\\n Shinobi ability is about whether\\n one can use and master all the Jutsu of the world.\\n Ninja refers to one who can use Ninjutsu.\\n Shinobi ability is no such thing.\\n You still don’t get it?\\n A Ninja…is one who endures.\\n It’s a difference of opinion, huh.\\n I’ll teach you one thing.\\n What’s most important for Shinobi ability…\\n isn’t the number of Jutsu one possesses.\\n What’s important is…\\n The mettle…\\n not to give up.\\n Enough already…you jerk!\\n The mettle to never give up…\\n He possesses that.\\n Heh. I don’t know what Jutsu you learned,\\n but you can’t hit me with such a large motion.\\n No good.\\n It won’t easily hit with a moving opponent.\\n Owwee!\\n And the Chakra isn’t completely held, yet…\\n It seems you got a cracked thigh bone in your left leg\\n from the battle with the snake.\\n Well, you can still move if it’s just the bone.\\n But it’s impossible now…\\n The lateral vastus muscle in your right leg is totally cut off.\\n What should I do…?\\n That Jutsu of mine uses both hands.\\n If even one arm is taken out, it’s over.\\n Are you scared of me?\\n Do you want to run away from here?\\n Naruto, as I recall,\\n you whooped it up like this during the first Chunin Exam.\\n Don’t mess with me. I won’t run away!\\n \"Don’t mess with me. I won’t run away.\"\\n \"I’ll take it. Even if I’m a Genin for life…\"\\n \"I’ll become the Hokage at any cost, so it’s okay with me.\"\\n \"I’m not scared.\"\\n Can you… whoop it up in the same way now?\\n Unlike you…\\n I will be the heir to the Hokage name no matter what!\\n – Hokage is my dream! – Hokage is my dream!\\n You’re not a kid anymore, so you should stop whooping it up…\\n Depending on the situation,\\n when you want to give up and run away, you should run away.\\n Oh my… What’s with that look?\\n You’ll die! If you die, there are no dreams or anything…\\n Do you want to die?\\n You’re still a Genin, so you should run away on the battlefield.\\n Don’t tell a man to run away.\\n Kids think that everything is easy.\\n That’s why they talk about foolish dreams like nothing at all.\\n That’s why they can’t give up.\\n Jiraiya, was it you who taught him that Rasengan?\\n Are you acting like a teacher by teaching a Jutsu that can’t be learned?\\n Don’t give him false hopes.\\n That’s why a moony kid starts joking that he’ll become the Hokage!\\n They chase after foolish dreams… and then die.\\n If I have three days, I’ll master that Jutsu.\\n Then let\\'s make a bet.\\n Bastard!\\n As for me… I stand by my words.\\n That’s…my Way of Ninja!\\n A bet?\\n I’ll give you one week.\\n If you can master that Jutsu,\\n I’ll acknowledge that you’ll be able to become the Hokage…\\n and give you this necklace.\\n You should’ve just stayed out of this…\\n Why?\\n Why?!\\n Old Lady Tsunade…\\n You’re still going to get up?\\n Just like our wager\\n I will definitely win that unlucky necklace from you.\\n Shadow Clone Jutsu!\\n Shadow Clone won’t do anything now.\\n Enough… Don’t protect me, Naruto. Stop it!\\n I told you that you’d die if you were obstinate like that, right?\\n If you die, there will be no dreams, no nothing.\\n Just get out of the way. Run away.\\n Humph… It’s okay.\\n I…\\n I absolutely will not die…\\n until I become the Hokage!\\n This way, I can hold on to you. Here I go!\\n It’s the same Chakra movement as before.\\n No, this is…different.\\n I see.\\n In order to gain a hand for suppressing Chakra,\\n the Shadow Clone…\\n Compress Chakra and…\\n hold it completely.\\n Wha--?!\\n I-It can’t be.\\n Rasengan!\\n I believe your promise, its a true heart give me courage\\n Always I feel it the precious time with you\\n On your still shoulder\\n I feel the wind that blows towards tomorrow\\n The city lights are like pieces of stars\\n That hold us together\\n “Each one of us glows differently,”\\n you say laughingly\\n but you look most dazzling\\n Like a comet,\\n like the rainbow after the storm\\n You bring light into my heart\\n Being lost can be the answer\\n Let’s promise we won’t cheat\\n Uh... like a shooting star, we do go ahead.\\n I never forget my ideal…\\n to develop the Village Hidden in the Leaf and protect its people.\\n The Hokages have sacrificed their lives for that dream.\\n And now, I also will put my life on the line.\\n From this moment, I am the Fifth Hokage!\\n Next time: \"The Fifth Hokage! A Life on the Line!\"\\n'"
      ]
     },
     "execution_count": 27,
     "metadata": {},
     "output_type": "execute_result"
    }
   ],
   "source": [
    "script"
   ]
  },
  {
   "cell_type": "code",
   "execution_count": 46,
   "id": "b973392f-45bf-4aaf-ad9a-5393de2621a5",
   "metadata": {},
   "outputs": [
    {
     "name": "stderr",
     "output_type": "stream",
     "text": [
      "[nltk_data] Downloading package punkt_tab to\n",
      "[nltk_data]     /Users/mubashirmian/nltk_data...\n",
      "[nltk_data]   Unzipping tokenizers/punkt_tab.zip.\n"
     ]
    },
    {
     "data": {
      "text/plain": [
       "True"
      ]
     },
     "execution_count": 46,
     "metadata": {},
     "output_type": "execute_result"
    }
   ],
   "source": [
    "nltk.download('punkt_tab')"
   ]
  },
  {
   "cell_type": "code",
   "execution_count": 28,
   "id": "7da4b366-a261-45ce-9364-99240ab8ea2d",
   "metadata": {},
   "outputs": [
    {
     "data": {
      "text/plain": [
       "[\"We are Fighting Dreamers aiming high\\n Fighting Dreamers don't care what people think about them\\n Fighting Dreamers follow what they believe\\n Oli Oli Oli Oh!\",\n",
       " 'Just go my way\\n Right here right now (Bang) Hit it straight like a line drive!',\n",
       " \"Right here right now (Burn)\\n Down a difficult road filled with endless struggles\\n Where do you think you are going following someone else's map?\"]"
      ]
     },
     "execution_count": 28,
     "metadata": {},
     "output_type": "execute_result"
    }
   ],
   "source": [
    "from nltk.tokenize import sent_tokenize\n",
    "script_sentences = sent_tokenize(script)\n",
    "script_sentences[:3]\n"
   ]
  },
  {
   "cell_type": "code",
   "execution_count": 29,
   "id": "28701148-5a14-4cd9-bb71-a2f3db578874",
   "metadata": {},
   "outputs": [],
   "source": [
    "sentence_batch_size = 20\n",
    "script_batches = []\n",
    "for index in range(0,len(script_sentences),sentence_batch_size):\n",
    "    sent = \" \".join(script_sentences[index:index+sentence_batch_size])\n",
    "    script_batches.append(sent)\n",
    "    "
   ]
  },
  {
   "cell_type": "code",
   "execution_count": 30,
   "id": "b4a2e974-3739-4ff1-ab49-4b4f0825e4a8",
   "metadata": {},
   "outputs": [
    {
     "data": {
      "text/plain": [
       "[\"We are Fighting Dreamers aiming high\\n Fighting Dreamers don't care what people think about them\\n Fighting Dreamers follow what they believe\\n Oli Oli Oli Oh! Just go my way\\n Right here right now (Bang) Hit it straight like a line drive! Right here right now (Burn)\\n Down a difficult road filled with endless struggles\\n Where do you think you are going following someone else's map? An insightful crow comes along to tear up the map\\n Now open your eyes and take a look at the truth (Yeah!) There's nothing to lose, so let's GO!!! We are Fighting Dreamers aiming high\\n Fighting Dreamers don't care what people think about them\\n Fighting Dreamers follow what they believe\\n Oli Oli Oli Oh! Just go my way\\n Right here right now (Bang) Hit it straight like a line drive! Right here right now (Burn) We're gonna do it and do our best! Right here right now (Bang) Hit it straight like a line drive! Right here right now (Burn) We're gonna do it and do our best! BANG! My body movements have finally returned…\\n Blood…\\n Lady Tsunade! Say! Say! What’s happening?! Why’s Kabuto fighting with Old Lady Tsunade?! Take a good look at the headband! He’s Orochimaru’s subordinate. Attack! Fury of the Rasengan!\",\n",
       " 'That man is Orochimaru…\\n Shizune, you take care of the guy with the glasses…\\n I’ll take care of Orochimaru. Before that, I’d like to have Tsunade do something about this body. The effects of that drug might still last for awhile…\\n There’s nothing that I can do about it. What? Really? Geez. I guess it can’t be helped. I have no choice but to fight in this condition. Tsunade… Rest your body with Recovery Ninjutsu. Then… What about me, me? You guard Tsunade together with that pig. What?! I want to fight, too. Even I can--\\n No, you won’t! Like that four-eyed kid said, right? You’re on a different level. The opponent is a Sannin like myself,\\n and the man who killed the Third Hokage. An eye for an eye… I’m the only one who can fight him. And that four-eyed guy possesses the same level of power as Kakashi. Okay.']"
      ]
     },
     "execution_count": 30,
     "metadata": {},
     "output_type": "execute_result"
    }
   ],
   "source": [
    "script_batches[:2]"
   ]
  },
  {
   "cell_type": "code",
   "execution_count": 31,
   "id": "580e454a-6014-4d5f-a07b-04b9b263d7ef",
   "metadata": {},
   "outputs": [],
   "source": [
    "theme_output = classifier(\n",
    "    script_batches[:2],\n",
    "    theme_list,\n",
    "    multi_lable = True\n",
    ")"
   ]
  },
  {
   "cell_type": "code",
   "execution_count": 32,
   "id": "f22e9db7-a156-4e4a-8589-88b8b894d345",
   "metadata": {},
   "outputs": [
    {
     "data": {
      "text/plain": [
       "[{'sequence': \"We are Fighting Dreamers aiming high\\n Fighting Dreamers don't care what people think about them\\n Fighting Dreamers follow what they believe\\n Oli Oli Oli Oh! Just go my way\\n Right here right now (Bang) Hit it straight like a line drive! Right here right now (Burn)\\n Down a difficult road filled with endless struggles\\n Where do you think you are going following someone else's map? An insightful crow comes along to tear up the map\\n Now open your eyes and take a look at the truth (Yeah!) There's nothing to lose, so let's GO!!! We are Fighting Dreamers aiming high\\n Fighting Dreamers don't care what people think about them\\n Fighting Dreamers follow what they believe\\n Oli Oli Oli Oh! Just go my way\\n Right here right now (Bang) Hit it straight like a line drive! Right here right now (Burn) We're gonna do it and do our best! Right here right now (Bang) Hit it straight like a line drive! Right here right now (Burn) We're gonna do it and do our best! BANG! My body movements have finally returned…\\n Blood…\\n Lady Tsunade! Say! Say! What’s happening?! Why’s Kabuto fighting with Old Lady Tsunade?! Take a good look at the headband! He’s Orochimaru’s subordinate. Attack! Fury of the Rasengan!\",\n",
       "  'labels': ['battle',\n",
       "   'self development',\n",
       "   'betrayal',\n",
       "   'dialouge',\n",
       "   'hope',\n",
       "   'scarfice',\n",
       "   'friendship',\n",
       "   'love'],\n",
       "  'scores': [0.29333066940307617,\n",
       "   0.245326429605484,\n",
       "   0.1782618910074234,\n",
       "   0.11965015530586243,\n",
       "   0.07505359500646591,\n",
       "   0.0398339107632637,\n",
       "   0.02618757262825966,\n",
       "   0.022355711087584496]},\n",
       " {'sequence': 'That man is Orochimaru…\\n Shizune, you take care of the guy with the glasses…\\n I’ll take care of Orochimaru. Before that, I’d like to have Tsunade do something about this body. The effects of that drug might still last for awhile…\\n There’s nothing that I can do about it. What? Really? Geez. I guess it can’t be helped. I have no choice but to fight in this condition. Tsunade… Rest your body with Recovery Ninjutsu. Then… What about me, me? You guard Tsunade together with that pig. What?! I want to fight, too. Even I can--\\n No, you won’t! Like that four-eyed kid said, right? You’re on a different level. The opponent is a Sannin like myself,\\n and the man who killed the Third Hokage. An eye for an eye… I’m the only one who can fight him. And that four-eyed guy possesses the same level of power as Kakashi. Okay.',\n",
       "  'labels': ['battle',\n",
       "   'dialouge',\n",
       "   'self development',\n",
       "   'betrayal',\n",
       "   'friendship',\n",
       "   'hope',\n",
       "   'scarfice',\n",
       "   'love'],\n",
       "  'scores': [0.29943543672561646,\n",
       "   0.1923883557319641,\n",
       "   0.13789716362953186,\n",
       "   0.1292896419763565,\n",
       "   0.09871922433376312,\n",
       "   0.05916782096028328,\n",
       "   0.051894526928663254,\n",
       "   0.03120780922472477]}]"
      ]
     },
     "execution_count": 32,
     "metadata": {},
     "output_type": "execute_result"
    }
   ],
   "source": [
    "theme_output"
   ]
  },
  {
   "cell_type": "code",
   "execution_count": 33,
   "id": "63083425-a7b6-4c80-8490-346b748e39c5",
   "metadata": {},
   "outputs": [],
   "source": [
    "# wrangle output\n",
    "# battle: [0.334,0.444]\n",
    "themes = {}\n",
    "\n",
    "for output in theme_output:\n",
    "    for label,score in zip(output['labels'],output['scores']):\n",
    "        if label not in themes:\n",
    "            themes[label] = []\n",
    "        themes[label].append(score)"
   ]
  },
  {
   "cell_type": "code",
   "execution_count": 34,
   "id": "7d8822cd-4951-419b-a759-fcfc8e4ec849",
   "metadata": {},
   "outputs": [
    {
     "data": {
      "text/plain": [
       "{'battle': [0.29333066940307617, 0.29943543672561646],\n",
       " 'self development': [0.245326429605484, 0.13789716362953186],\n",
       " 'betrayal': [0.1782618910074234, 0.1292896419763565],\n",
       " 'dialouge': [0.11965015530586243, 0.1923883557319641],\n",
       " 'hope': [0.07505359500646591, 0.05916782096028328],\n",
       " 'scarfice': [0.0398339107632637, 0.051894526928663254],\n",
       " 'friendship': [0.02618757262825966, 0.09871922433376312],\n",
       " 'love': [0.022355711087584496, 0.03120780922472477]}"
      ]
     },
     "execution_count": 34,
     "metadata": {},
     "output_type": "execute_result"
    }
   ],
   "source": [
    "themes"
   ]
  },
  {
   "cell_type": "code",
   "execution_count": 35,
   "id": "4e15890b-2d7d-451c-9f16-01d3c6758a59",
   "metadata": {},
   "outputs": [],
   "source": [
    "import numpy as np"
   ]
  },
  {
   "cell_type": "code",
   "execution_count": 36,
   "id": "087b3618-244d-4105-865f-947d1d292777",
   "metadata": {},
   "outputs": [],
   "source": [
    "themes = {key: np.mean(np.array(value)) for key, value in themes.items()}"
   ]
  },
  {
   "cell_type": "code",
   "execution_count": 37,
   "id": "de986b2f-8241-40a7-bcb1-445db9ce5386",
   "metadata": {},
   "outputs": [
    {
     "data": {
      "text/plain": [
       "{'battle': 0.2963830530643463,\n",
       " 'self development': 0.19161179661750793,\n",
       " 'betrayal': 0.15377576649188995,\n",
       " 'dialouge': 0.15601925551891327,\n",
       " 'hope': 0.0671107079833746,\n",
       " 'scarfice': 0.04586421884596348,\n",
       " 'friendship': 0.06245339848101139,\n",
       " 'love': 0.026781760156154633}"
      ]
     },
     "execution_count": 37,
     "metadata": {},
     "output_type": "execute_result"
    }
   ],
   "source": [
    "themes"
   ]
  },
  {
   "cell_type": "code",
   "execution_count": 38,
   "id": "b909db31-b872-4227-9346-b687128a1ec8",
   "metadata": {},
   "outputs": [],
   "source": [
    "def get_themes_inference(script):\n",
    "    script_sentences = sent_tokenize(script)\n",
    "\n",
    "    #batch sentences\n",
    "    sentence_batch_size = 20\n",
    "    script_batches = []\n",
    "    for index in range(0,len(script_sentences),sentence_batch_size):\n",
    "        sent = \" \".join(script_sentences[index:index+sentence_batch_size])\n",
    "        script_batches.append(sent)\n",
    "\n",
    "    # run model\n",
    "    theme_output = classifier(\n",
    "        script_batches[:2],\n",
    "        theme_list,\n",
    "        multi_lable=True\n",
    "    ) \n",
    "\n",
    "    # wrangle\n",
    "    themes = {}\n",
    "\n",
    "    for output in theme_output:\n",
    "        for label,score in zip(output['labels'],output['scores']):\n",
    "            if label not in themes:\n",
    "                themes[label] = []\n",
    "            themes[label].append(score)\n",
    "    themes = {key: np.mean(np.array(value)) for key, value in themes.items()}\n",
    "    return themes\n",
    "    "
   ]
  },
  {
   "cell_type": "code",
   "execution_count": 43,
   "id": "2a9f55f6-0cfb-476d-a116-81ae19a676b2",
   "metadata": {},
   "outputs": [
    {
     "data": {
      "text/html": [
       "<div>\n",
       "<style scoped>\n",
       "    .dataframe tbody tr th:only-of-type {\n",
       "        vertical-align: middle;\n",
       "    }\n",
       "\n",
       "    .dataframe tbody tr th {\n",
       "        vertical-align: top;\n",
       "    }\n",
       "\n",
       "    .dataframe thead th {\n",
       "        text-align: right;\n",
       "    }\n",
       "</style>\n",
       "<table border=\"1\" class=\"dataframe\">\n",
       "  <thead>\n",
       "    <tr style=\"text-align: right;\">\n",
       "      <th></th>\n",
       "      <th>episode</th>\n",
       "      <th>script</th>\n",
       "    </tr>\n",
       "  </thead>\n",
       "  <tbody>\n",
       "    <tr>\n",
       "      <th>0</th>\n",
       "      <td>94</td>\n",
       "      <td>We are Fighting Dreamers aiming high\\n Fightin...</td>\n",
       "    </tr>\n",
       "    <tr>\n",
       "      <th>1</th>\n",
       "      <td>80</td>\n",
       "      <td>We are Fighting Dreamers aiming high\\n Fightin...</td>\n",
       "    </tr>\n",
       "  </tbody>\n",
       "</table>\n",
       "</div>"
      ],
      "text/plain": [
       "   episode                                             script\n",
       "0       94  We are Fighting Dreamers aiming high\\n Fightin...\n",
       "1       80  We are Fighting Dreamers aiming high\\n Fightin..."
      ]
     },
     "execution_count": 43,
     "metadata": {},
     "output_type": "execute_result"
    }
   ],
   "source": [
    "df.head(2)"
   ]
  },
  {
   "cell_type": "code",
   "execution_count": 42,
   "id": "608a4f33-8d6f-4b68-a189-533b3403e070",
   "metadata": {},
   "outputs": [],
   "source": [
    "output_themes = df['script'].apply(get_themes_inference)"
   ]
  },
  {
   "cell_type": "code",
   "execution_count": 41,
   "id": "2a497ed7-b310-4479-9828-cc6011ee90f2",
   "metadata": {},
   "outputs": [
    {
     "data": {
      "text/plain": [
       "0      {'battle': 0.2963830530643463, 'self developme...\n",
       "1      {'battle': 0.26217008382081985, 'self developm...\n",
       "2      {'battle': 0.25746137648820877, 'dialouge': 0....\n",
       "3      {'self development': 0.2663479298353195, 'hope...\n",
       "4      {'self development': 0.22907540202140808, 'bet...\n",
       "                             ...                        \n",
       "213    {'self development': 0.17990980669856071, 'bat...\n",
       "214    {'self development': 0.27457206696271896, 'dia...\n",
       "215    {'self development': 0.2999569922685623, 'batt...\n",
       "216    {'battle': 0.23454400151968002, 'self developm...\n",
       "217    {'self development': 0.24033448845148087, 'dia...\n",
       "Name: script, Length: 218, dtype: object"
      ]
     },
     "execution_count": 41,
     "metadata": {},
     "output_type": "execute_result"
    }
   ],
   "source": [
    "output_themes"
   ]
  },
  {
   "cell_type": "code",
   "execution_count": 5,
   "id": "8d9e6990-5c0b-45ec-9089-6facc533b133",
   "metadata": {},
   "outputs": [],
   "source": [
    "  import pandas as pd"
   ]
  },
  {
   "cell_type": "code",
   "execution_count": 44,
   "id": "01803ce1-acbf-4b8d-a574-1a543a9ea6f0",
   "metadata": {},
   "outputs": [],
   "source": [
    "theme_df = pd.DataFrame(output_themes.tolist())"
   ]
  },
  {
   "cell_type": "code",
   "execution_count": 36,
   "id": "942fbd54-0f21-4d79-a17c-0770826c9da0",
   "metadata": {},
   "outputs": [
    {
     "data": {
      "text/html": [
       "<div>\n",
       "<style scoped>\n",
       "    .dataframe tbody tr th:only-of-type {\n",
       "        vertical-align: middle;\n",
       "    }\n",
       "\n",
       "    .dataframe tbody tr th {\n",
       "        vertical-align: top;\n",
       "    }\n",
       "\n",
       "    .dataframe thead th {\n",
       "        text-align: right;\n",
       "    }\n",
       "</style>\n",
       "<table border=\"1\" class=\"dataframe\">\n",
       "  <thead>\n",
       "    <tr style=\"text-align: right;\">\n",
       "      <th></th>\n",
       "      <th>battle</th>\n",
       "      <th>self development</th>\n",
       "      <th>betrayal</th>\n",
       "      <th>dialouge</th>\n",
       "      <th>hope</th>\n",
       "      <th>scarfice</th>\n",
       "      <th>friendship</th>\n",
       "      <th>love</th>\n",
       "    </tr>\n",
       "  </thead>\n",
       "  <tbody>\n",
       "    <tr>\n",
       "      <th>0</th>\n",
       "      <td>0.296383</td>\n",
       "      <td>0.191612</td>\n",
       "      <td>0.153776</td>\n",
       "      <td>0.156019</td>\n",
       "      <td>0.067111</td>\n",
       "      <td>0.045864</td>\n",
       "      <td>0.062453</td>\n",
       "      <td>0.026782</td>\n",
       "    </tr>\n",
       "    <tr>\n",
       "      <th>1</th>\n",
       "      <td>0.262170</td>\n",
       "      <td>0.180043</td>\n",
       "      <td>0.125355</td>\n",
       "      <td>0.185510</td>\n",
       "      <td>0.083502</td>\n",
       "      <td>0.073111</td>\n",
       "      <td>0.062465</td>\n",
       "      <td>0.027844</td>\n",
       "    </tr>\n",
       "    <tr>\n",
       "      <th>2</th>\n",
       "      <td>0.257461</td>\n",
       "      <td>0.179330</td>\n",
       "      <td>0.072959</td>\n",
       "      <td>0.165440</td>\n",
       "      <td>0.132547</td>\n",
       "      <td>0.091919</td>\n",
       "      <td>0.048768</td>\n",
       "      <td>0.051575</td>\n",
       "    </tr>\n",
       "    <tr>\n",
       "      <th>3</th>\n",
       "      <td>0.085470</td>\n",
       "      <td>0.266348</td>\n",
       "      <td>0.093205</td>\n",
       "      <td>0.151552</td>\n",
       "      <td>0.129296</td>\n",
       "      <td>0.071318</td>\n",
       "      <td>0.139711</td>\n",
       "      <td>0.063101</td>\n",
       "    </tr>\n",
       "    <tr>\n",
       "      <th>4</th>\n",
       "      <td>0.135569</td>\n",
       "      <td>0.229075</td>\n",
       "      <td>0.232512</td>\n",
       "      <td>0.116959</td>\n",
       "      <td>0.099439</td>\n",
       "      <td>0.055495</td>\n",
       "      <td>0.081251</td>\n",
       "      <td>0.049699</td>\n",
       "    </tr>\n",
       "    <tr>\n",
       "      <th>...</th>\n",
       "      <td>...</td>\n",
       "      <td>...</td>\n",
       "      <td>...</td>\n",
       "      <td>...</td>\n",
       "      <td>...</td>\n",
       "      <td>...</td>\n",
       "      <td>...</td>\n",
       "      <td>...</td>\n",
       "    </tr>\n",
       "    <tr>\n",
       "      <th>213</th>\n",
       "      <td>0.236457</td>\n",
       "      <td>0.179910</td>\n",
       "      <td>0.068787</td>\n",
       "      <td>0.136980</td>\n",
       "      <td>0.128874</td>\n",
       "      <td>0.064323</td>\n",
       "      <td>0.130262</td>\n",
       "      <td>0.054408</td>\n",
       "    </tr>\n",
       "    <tr>\n",
       "      <th>214</th>\n",
       "      <td>0.094003</td>\n",
       "      <td>0.274572</td>\n",
       "      <td>0.028241</td>\n",
       "      <td>0.202414</td>\n",
       "      <td>0.291937</td>\n",
       "      <td>0.035581</td>\n",
       "      <td>0.043983</td>\n",
       "      <td>0.029270</td>\n",
       "    </tr>\n",
       "    <tr>\n",
       "      <th>215</th>\n",
       "      <td>0.168248</td>\n",
       "      <td>0.299957</td>\n",
       "      <td>0.122490</td>\n",
       "      <td>0.143540</td>\n",
       "      <td>0.111129</td>\n",
       "      <td>0.052542</td>\n",
       "      <td>0.063279</td>\n",
       "      <td>0.038815</td>\n",
       "    </tr>\n",
       "    <tr>\n",
       "      <th>216</th>\n",
       "      <td>0.234544</td>\n",
       "      <td>0.208880</td>\n",
       "      <td>0.195286</td>\n",
       "      <td>0.147324</td>\n",
       "      <td>0.079676</td>\n",
       "      <td>0.067240</td>\n",
       "      <td>0.044279</td>\n",
       "      <td>0.022771</td>\n",
       "    </tr>\n",
       "    <tr>\n",
       "      <th>217</th>\n",
       "      <td>0.088746</td>\n",
       "      <td>0.240334</td>\n",
       "      <td>0.179552</td>\n",
       "      <td>0.204845</td>\n",
       "      <td>0.092073</td>\n",
       "      <td>0.096204</td>\n",
       "      <td>0.054835</td>\n",
       "      <td>0.043410</td>\n",
       "    </tr>\n",
       "  </tbody>\n",
       "</table>\n",
       "<p>218 rows × 8 columns</p>\n",
       "</div>"
      ],
      "text/plain": [
       "       battle  self development  betrayal  dialouge      hope  scarfice  \\\n",
       "0    0.296383          0.191612  0.153776  0.156019  0.067111  0.045864   \n",
       "1    0.262170          0.180043  0.125355  0.185510  0.083502  0.073111   \n",
       "2    0.257461          0.179330  0.072959  0.165440  0.132547  0.091919   \n",
       "3    0.085470          0.266348  0.093205  0.151552  0.129296  0.071318   \n",
       "4    0.135569          0.229075  0.232512  0.116959  0.099439  0.055495   \n",
       "..        ...               ...       ...       ...       ...       ...   \n",
       "213  0.236457          0.179910  0.068787  0.136980  0.128874  0.064323   \n",
       "214  0.094003          0.274572  0.028241  0.202414  0.291937  0.035581   \n",
       "215  0.168248          0.299957  0.122490  0.143540  0.111129  0.052542   \n",
       "216  0.234544          0.208880  0.195286  0.147324  0.079676  0.067240   \n",
       "217  0.088746          0.240334  0.179552  0.204845  0.092073  0.096204   \n",
       "\n",
       "     friendship      love  \n",
       "0      0.062453  0.026782  \n",
       "1      0.062465  0.027844  \n",
       "2      0.048768  0.051575  \n",
       "3      0.139711  0.063101  \n",
       "4      0.081251  0.049699  \n",
       "..          ...       ...  \n",
       "213    0.130262  0.054408  \n",
       "214    0.043983  0.029270  \n",
       "215    0.063279  0.038815  \n",
       "216    0.044279  0.022771  \n",
       "217    0.054835  0.043410  \n",
       "\n",
       "[218 rows x 8 columns]"
      ]
     },
     "execution_count": 36,
     "metadata": {},
     "output_type": "execute_result"
    }
   ],
   "source": [
    "theme_df"
   ]
  },
  {
   "cell_type": "code",
   "execution_count": 47,
   "id": "51bd6e46-01b0-4277-a469-4f174ff6eb15",
   "metadata": {},
   "outputs": [],
   "source": [
    "df[theme_df.columns] = theme_df"
   ]
  },
  {
   "cell_type": "code",
   "execution_count": 48,
   "id": "63a63871-07fb-495d-82c5-8863b8f721a6",
   "metadata": {},
   "outputs": [
    {
     "data": {
      "text/html": [
       "<div>\n",
       "<style scoped>\n",
       "    .dataframe tbody tr th:only-of-type {\n",
       "        vertical-align: middle;\n",
       "    }\n",
       "\n",
       "    .dataframe tbody tr th {\n",
       "        vertical-align: top;\n",
       "    }\n",
       "\n",
       "    .dataframe thead th {\n",
       "        text-align: right;\n",
       "    }\n",
       "</style>\n",
       "<table border=\"1\" class=\"dataframe\">\n",
       "  <thead>\n",
       "    <tr style=\"text-align: right;\">\n",
       "      <th></th>\n",
       "      <th>episode</th>\n",
       "      <th>script</th>\n",
       "      <th>battle</th>\n",
       "      <th>self development</th>\n",
       "      <th>betrayal</th>\n",
       "      <th>hope</th>\n",
       "      <th>scarfice</th>\n",
       "      <th>friendship</th>\n",
       "      <th>love</th>\n",
       "    </tr>\n",
       "  </thead>\n",
       "  <tbody>\n",
       "    <tr>\n",
       "      <th>0</th>\n",
       "      <td>94</td>\n",
       "      <td>We are Fighting Dreamers aiming high\\n Fightin...</td>\n",
       "      <td>0.296383</td>\n",
       "      <td>0.191612</td>\n",
       "      <td>0.153776</td>\n",
       "      <td>0.067111</td>\n",
       "      <td>0.045864</td>\n",
       "      <td>0.062453</td>\n",
       "      <td>0.026782</td>\n",
       "    </tr>\n",
       "    <tr>\n",
       "      <th>1</th>\n",
       "      <td>80</td>\n",
       "      <td>We are Fighting Dreamers aiming high\\n Fightin...</td>\n",
       "      <td>0.262170</td>\n",
       "      <td>0.180043</td>\n",
       "      <td>0.125355</td>\n",
       "      <td>0.083502</td>\n",
       "      <td>0.073111</td>\n",
       "      <td>0.062465</td>\n",
       "      <td>0.027844</td>\n",
       "    </tr>\n",
       "    <tr>\n",
       "      <th>2</th>\n",
       "      <td>32</td>\n",
       "      <td>Press down hard on the gas\\n That’s right, the...</td>\n",
       "      <td>0.257461</td>\n",
       "      <td>0.179330</td>\n",
       "      <td>0.072959</td>\n",
       "      <td>0.132547</td>\n",
       "      <td>0.091919</td>\n",
       "      <td>0.048768</td>\n",
       "      <td>0.051575</td>\n",
       "    </tr>\n",
       "    <tr>\n",
       "      <th>3</th>\n",
       "      <td>185</td>\n",
       "      <td>Rock away your existence,\\n Shouting that you ...</td>\n",
       "      <td>0.085470</td>\n",
       "      <td>0.266348</td>\n",
       "      <td>0.093205</td>\n",
       "      <td>0.129296</td>\n",
       "      <td>0.071318</td>\n",
       "      <td>0.139711</td>\n",
       "      <td>0.063101</td>\n",
       "    </tr>\n",
       "    <tr>\n",
       "      <th>4</th>\n",
       "      <td>191</td>\n",
       "      <td>Rock away your existence,\\n Shouting that you ...</td>\n",
       "      <td>0.135569</td>\n",
       "      <td>0.229075</td>\n",
       "      <td>0.232512</td>\n",
       "      <td>0.099439</td>\n",
       "      <td>0.055495</td>\n",
       "      <td>0.081251</td>\n",
       "      <td>0.049699</td>\n",
       "    </tr>\n",
       "    <tr>\n",
       "      <th>...</th>\n",
       "      <td>...</td>\n",
       "      <td>...</td>\n",
       "      <td>...</td>\n",
       "      <td>...</td>\n",
       "      <td>...</td>\n",
       "      <td>...</td>\n",
       "      <td>...</td>\n",
       "      <td>...</td>\n",
       "      <td>...</td>\n",
       "    </tr>\n",
       "    <tr>\n",
       "      <th>213</th>\n",
       "      <td>154</td>\n",
       "      <td>I want to try and gather the unrestrained wind...</td>\n",
       "      <td>0.236457</td>\n",
       "      <td>0.179910</td>\n",
       "      <td>0.068787</td>\n",
       "      <td>0.128874</td>\n",
       "      <td>0.064323</td>\n",
       "      <td>0.130262</td>\n",
       "      <td>0.054408</td>\n",
       "    </tr>\n",
       "    <tr>\n",
       "      <th>214</th>\n",
       "      <td>188</td>\n",
       "      <td>Rock away your existence,\\n Shouting that you ...</td>\n",
       "      <td>0.094003</td>\n",
       "      <td>0.274572</td>\n",
       "      <td>0.028241</td>\n",
       "      <td>0.291937</td>\n",
       "      <td>0.035581</td>\n",
       "      <td>0.043983</td>\n",
       "      <td>0.029270</td>\n",
       "    </tr>\n",
       "    <tr>\n",
       "      <th>215</th>\n",
       "      <td>99</td>\n",
       "      <td>We are Fighting Dreamers aiming high\\n Fightin...</td>\n",
       "      <td>0.168248</td>\n",
       "      <td>0.299957</td>\n",
       "      <td>0.122490</td>\n",
       "      <td>0.111129</td>\n",
       "      <td>0.052542</td>\n",
       "      <td>0.063279</td>\n",
       "      <td>0.038815</td>\n",
       "    </tr>\n",
       "    <tr>\n",
       "      <th>216</th>\n",
       "      <td>103</td>\n",
       "      <td>We are Fighting Dreamers aiming high\\n Fightin...</td>\n",
       "      <td>0.234544</td>\n",
       "      <td>0.208880</td>\n",
       "      <td>0.195286</td>\n",
       "      <td>0.079676</td>\n",
       "      <td>0.067240</td>\n",
       "      <td>0.044279</td>\n",
       "      <td>0.022771</td>\n",
       "    </tr>\n",
       "    <tr>\n",
       "      <th>217</th>\n",
       "      <td>201</td>\n",
       "      <td>Rock away your existence,\\n Shouting that you ...</td>\n",
       "      <td>0.088746</td>\n",
       "      <td>0.240334</td>\n",
       "      <td>0.179552</td>\n",
       "      <td>0.092073</td>\n",
       "      <td>0.096204</td>\n",
       "      <td>0.054835</td>\n",
       "      <td>0.043410</td>\n",
       "    </tr>\n",
       "  </tbody>\n",
       "</table>\n",
       "<p>218 rows × 9 columns</p>\n",
       "</div>"
      ],
      "text/plain": [
       "     episode                                             script    battle  \\\n",
       "0         94  We are Fighting Dreamers aiming high\\n Fightin...  0.296383   \n",
       "1         80  We are Fighting Dreamers aiming high\\n Fightin...  0.262170   \n",
       "2         32  Press down hard on the gas\\n That’s right, the...  0.257461   \n",
       "3        185  Rock away your existence,\\n Shouting that you ...  0.085470   \n",
       "4        191  Rock away your existence,\\n Shouting that you ...  0.135569   \n",
       "..       ...                                                ...       ...   \n",
       "213      154  I want to try and gather the unrestrained wind...  0.236457   \n",
       "214      188  Rock away your existence,\\n Shouting that you ...  0.094003   \n",
       "215       99  We are Fighting Dreamers aiming high\\n Fightin...  0.168248   \n",
       "216      103  We are Fighting Dreamers aiming high\\n Fightin...  0.234544   \n",
       "217      201  Rock away your existence,\\n Shouting that you ...  0.088746   \n",
       "\n",
       "     self development  betrayal      hope  scarfice  friendship      love  \n",
       "0            0.191612  0.153776  0.067111  0.045864    0.062453  0.026782  \n",
       "1            0.180043  0.125355  0.083502  0.073111    0.062465  0.027844  \n",
       "2            0.179330  0.072959  0.132547  0.091919    0.048768  0.051575  \n",
       "3            0.266348  0.093205  0.129296  0.071318    0.139711  0.063101  \n",
       "4            0.229075  0.232512  0.099439  0.055495    0.081251  0.049699  \n",
       "..                ...       ...       ...       ...         ...       ...  \n",
       "213          0.179910  0.068787  0.128874  0.064323    0.130262  0.054408  \n",
       "214          0.274572  0.028241  0.291937  0.035581    0.043983  0.029270  \n",
       "215          0.299957  0.122490  0.111129  0.052542    0.063279  0.038815  \n",
       "216          0.208880  0.195286  0.079676  0.067240    0.044279  0.022771  \n",
       "217          0.240334  0.179552  0.092073  0.096204    0.054835  0.043410  \n",
       "\n",
       "[218 rows x 9 columns]"
      ]
     },
     "execution_count": 48,
     "metadata": {},
     "output_type": "execute_result"
    }
   ],
   "source": [
    "df.drop('dialouge',axis=1)"
   ]
  },
  {
   "cell_type": "code",
   "execution_count": 49,
   "id": "2b24adbf-98c9-4492-a128-0581d780e657",
   "metadata": {},
   "outputs": [
    {
     "data": {
      "text/html": [
       "<div>\n",
       "<style scoped>\n",
       "    .dataframe tbody tr th:only-of-type {\n",
       "        vertical-align: middle;\n",
       "    }\n",
       "\n",
       "    .dataframe tbody tr th {\n",
       "        vertical-align: top;\n",
       "    }\n",
       "\n",
       "    .dataframe thead th {\n",
       "        text-align: right;\n",
       "    }\n",
       "</style>\n",
       "<table border=\"1\" class=\"dataframe\">\n",
       "  <thead>\n",
       "    <tr style=\"text-align: right;\">\n",
       "      <th></th>\n",
       "      <th>theme</th>\n",
       "      <th>score</th>\n",
       "    </tr>\n",
       "  </thead>\n",
       "  <tbody>\n",
       "    <tr>\n",
       "      <th>0</th>\n",
       "      <td>battle</td>\n",
       "      <td>38.520410</td>\n",
       "    </tr>\n",
       "    <tr>\n",
       "      <th>1</th>\n",
       "      <td>self development</td>\n",
       "      <td>41.522177</td>\n",
       "    </tr>\n",
       "    <tr>\n",
       "      <th>2</th>\n",
       "      <td>betrayal</td>\n",
       "      <td>30.589996</td>\n",
       "    </tr>\n",
       "    <tr>\n",
       "      <th>3</th>\n",
       "      <td>dialouge</td>\n",
       "      <td>34.413366</td>\n",
       "    </tr>\n",
       "    <tr>\n",
       "      <th>4</th>\n",
       "      <td>hope</td>\n",
       "      <td>24.591440</td>\n",
       "    </tr>\n",
       "    <tr>\n",
       "      <th>5</th>\n",
       "      <td>scarfice</td>\n",
       "      <td>17.128966</td>\n",
       "    </tr>\n",
       "    <tr>\n",
       "      <th>6</th>\n",
       "      <td>friendship</td>\n",
       "      <td>18.481303</td>\n",
       "    </tr>\n",
       "    <tr>\n",
       "      <th>7</th>\n",
       "      <td>love</td>\n",
       "      <td>12.752343</td>\n",
       "    </tr>\n",
       "  </tbody>\n",
       "</table>\n",
       "</div>"
      ],
      "text/plain": [
       "              theme      score\n",
       "0            battle  38.520410\n",
       "1  self development  41.522177\n",
       "2          betrayal  30.589996\n",
       "3          dialouge  34.413366\n",
       "4              hope  24.591440\n",
       "5          scarfice  17.128966\n",
       "6        friendship  18.481303\n",
       "7              love  12.752343"
      ]
     },
     "execution_count": 49,
     "metadata": {},
     "output_type": "execute_result"
    }
   ],
   "source": [
    "theme_output = df.drop(['episode','script'],axis=1).sum().reset_index()\n",
    "theme_output.columns = ['theme','score']\n",
    "theme_output"
   ]
  },
  {
   "cell_type": "code",
   "execution_count": 50,
   "id": "ab9122fa-6c86-4381-a2f0-02f0b4804a01",
   "metadata": {},
   "outputs": [],
   "source": [
    "import matplotlib.pyplot as plt\n",
    "import seaborn as sns"
   ]
  },
  {
   "cell_type": "code",
   "execution_count": 51,
   "id": "6658a742-9011-4436-ace8-6f8795b92926",
   "metadata": {},
   "outputs": [
    {
     "data": {
      "image/png": "[encoded data removed]",
      "text/plain": [
       "<Figure size 640x480 with 1 Axes>"
      ]
     },
     "metadata": {},
     "output_type": "display_data"
    }
   ],
   "source": [
    "sns.barplot(data = theme_output, x = \"theme\", y = \"score\")\n",
    "plt.show()"
   ]
  },
  {
   "cell_type": "code",
   "execution_count": null,
   "id": "d3dc40e6-cad7-440a-9601-3af9e96e6ac8",
   "metadata": {},
   "outputs": [],
   "source": []
  }
 ],
 "metadata": {
  "kernelspec": {
   "display_name": "Python 3 (ipykernel)",
   "language": "python",
   "name": "python3"
  },
  "language_info": {
   "codemirror_mode": {
    "name": "ipython",
    "version": 3
   },
   "file_extension": ".py",
   "mimetype": "text/x-python",
   "name": "python",
   "nbconvert_exporter": "python",
   "pygments_lexer": "ipython3",
   "version": "3.12.8"
  }
 },
 "nbformat": 4,
 "nbformat_minor": 5
}
